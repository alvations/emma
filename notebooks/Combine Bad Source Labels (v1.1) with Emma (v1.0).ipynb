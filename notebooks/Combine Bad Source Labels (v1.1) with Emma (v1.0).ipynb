{
 "cells": [
  {
   "cell_type": "code",
   "execution_count": 1,
   "id": "d1b7724b",
   "metadata": {},
   "outputs": [],
   "source": [
    "import pandas as pd\n",
    "from collections import Counter\n",
    "\n",
    "import json"
   ]
  },
  {
   "cell_type": "code",
   "execution_count": 2,
   "id": "bd454075",
   "metadata": {},
   "outputs": [],
   "source": [
    "# Patches for \"bad source\".\n",
    "_df = pd.read_csv('MQM X - Sheet1.tsv', sep='\\t')\n",
    "_df.to_parquet('mqm-v11.parquet')"
   ]
  },
  {
   "cell_type": "code",
   "execution_count": 3,
   "id": "1ebead29",
   "metadata": {},
   "outputs": [],
   "source": [
    "df10 = pd.read_parquet('mqm-v1.parquet')\n",
    "df11 = pd.read_parquet('mqm-v11.parquet')"
   ]
  },
  {
   "cell_type": "code",
   "execution_count": 4,
   "id": "f45b2001",
   "metadata": {},
   "outputs": [],
   "source": [
    "import xxhash\n",
    "\n",
    "def hashstr(s):\n",
    "    return xxhash.xxh64(s, seed=42).intdigest()"
   ]
  },
  {
   "cell_type": "code",
   "execution_count": 5,
   "id": "73b92147",
   "metadata": {},
   "outputs": [],
   "source": [
    "df10['Source xxhash'] = df10['German Source'].apply(hashstr)\n",
    "df10['Target xxhash'] = df10['English Translation'].apply(hashstr)\n",
    "\n",
    "df10['Source\\nTarget xxhash'] = (df10['German Source'].astype(str) + \"\\n\" + df10['English Translation'].astype(str)).apply(hashstr)"
   ]
  },
  {
   "cell_type": "code",
   "execution_count": null,
   "id": "01ccb13b",
   "metadata": {},
   "outputs": [],
   "source": []
  },
  {
   "cell_type": "code",
   "execution_count": 6,
   "id": "9e755756",
   "metadata": {},
   "outputs": [],
   "source": [
    "df11['Source xxhash'] = df11['German Source'].apply(hashstr)\n",
    "df11['Target xxhash'] = df11['English Translation'].apply(hashstr)\n",
    "\n",
    "df11['Source\\nTarget xxhash'] = (df11['German Source'].astype(str) + \"\\n\" + df11['English Translation'].astype(str)).apply(hashstr)\n",
    "\n",
    "df11['Annotator'] = 1"
   ]
  },
  {
   "cell_type": "code",
   "execution_count": 7,
   "id": "73162622",
   "metadata": {},
   "outputs": [],
   "source": [
    "bad_source_patch = set(df11['Source\\nTarget xxhash'])\n",
    "\n",
    "error_label_map = {'Adequacy':'Adequacy',\n",
    " 'Adequacy ':'Adequacy',\n",
    " 'Bad Source':'Bad Source',\n",
    " 'Bad Source ':'Bad Source',\n",
    " 'Bad source':'Bad Source',\n",
    " 'Bad Source - Bad Encoding': 'Bad Source - Bad Encoding',\n",
    " 'Bad Source - No meaning':'Bad Source - No meaning',\n",
    " 'Bad Source - Not German':'Bad Source - Not German',\n",
    " 'Bad Source - Ungrammatical German':  'Bad Source - Ungrammatical German',\n",
    " 'Bad Source - others': 'Bad Source - Others',\n",
    " 'Fleuncy':'Fluency',\n",
    " 'Fluency':'Fluency',\n",
    " 'Fluency ':'Fluency',\n",
    " 'None':'None',\n",
    " 'Number':'Number',\n",
    " 'Numbers':'Number',\n",
    " 'Other':'Other'\n",
    "}\n",
    "\n",
    "df10['Error'] = df10['Error'].map(error_label_map)\n",
    "\n",
    "\n",
    "lol = []\n",
    "\n",
    "num_rows = []\n",
    "\n",
    "for idx, row in df10.iterrows():\n",
    "    num_rows.append(idx)\n",
    "    if row['Source\\nTarget xxhash'] in bad_source_patch:\n",
    "        patch_row = df11[df11['Source\\nTarget xxhash'] == row['Source\\nTarget xxhash']].iloc[0]\n",
    "        #print(idx, row['Error'], '|', patch_row['Error'])\n",
    "        new_row = json.loads(row.to_json())\n",
    "        new_row['Error'] = str(patch_row['Error'])\n",
    "        lol.append(new_row)\n",
    "    else:\n",
    "        new_row = json.loads(row.to_json())\n",
    "        lol.append(new_row)\n"
   ]
  },
  {
   "cell_type": "code",
   "execution_count": 8,
   "id": "92186366",
   "metadata": {},
   "outputs": [
    {
     "data": {
      "text/plain": [
       "7929"
      ]
     },
     "execution_count": 8,
     "metadata": {},
     "output_type": "execute_result"
    }
   ],
   "source": [
    "len(lol)"
   ]
  },
  {
   "cell_type": "code",
   "execution_count": 9,
   "id": "99543ae6",
   "metadata": {},
   "outputs": [],
   "source": [
    "df20 = pd.DataFrame(lol)"
   ]
  },
  {
   "cell_type": "code",
   "execution_count": 10,
   "id": "50edab0d",
   "metadata": {},
   "outputs": [],
   "source": [
    "df20['Error'] = df20['Error'].map(error_label_map)"
   ]
  },
  {
   "cell_type": "code",
   "execution_count": 11,
   "id": "d90cf664",
   "metadata": {},
   "outputs": [
    {
     "data": {
      "text/plain": [
       "Counter({'Bad Source - No meaning': 1517,\n",
       "         'Adequacy': 1438,\n",
       "         'None': 4171,\n",
       "         'Bad Source - Ungrammatical German': 318,\n",
       "         'Fluency': 208,\n",
       "         'Bad Source - Bad Encoding': 68,\n",
       "         'Bad Source - Not German': 160,\n",
       "         'Bad Source - Others': 3,\n",
       "         'Bad Source': 24,\n",
       "         'Number': 18,\n",
       "         'Other': 4})"
      ]
     },
     "execution_count": 11,
     "metadata": {},
     "output_type": "execute_result"
    }
   ],
   "source": [
    "Counter(df20['Error'])"
   ]
  },
  {
   "cell_type": "code",
   "execution_count": 12,
   "id": "db03ab87",
   "metadata": {},
   "outputs": [],
   "source": [
    "want_errors = {'Adequacy',\n",
    " 'Bad Source - Bad Encoding',\n",
    " 'Bad Source - No meaning',\n",
    " 'Bad Source - Not German',\n",
    " 'Bad Source - Others',\n",
    " 'Bad Source - Ungrammatical German',\n",
    " 'Fluency',\n",
    " 'None',\n",
    " 'Number',\n",
    "}\n",
    "\n",
    "df20 = df20[df20['Error'].isin(want_errors)]"
   ]
  },
  {
   "cell_type": "code",
   "execution_count": 13,
   "id": "88504ba5",
   "metadata": {},
   "outputs": [
    {
     "data": {
      "text/plain": [
       "Counter({'Bad Source - No meaning': 1517,\n",
       "         'Adequacy': 1438,\n",
       "         'None': 4171,\n",
       "         'Bad Source - Ungrammatical German': 318,\n",
       "         'Fluency': 208,\n",
       "         'Bad Source - Bad Encoding': 68,\n",
       "         'Bad Source - Not German': 160,\n",
       "         'Bad Source - Others': 3,\n",
       "         'Number': 18})"
      ]
     },
     "execution_count": 13,
     "metadata": {},
     "output_type": "execute_result"
    }
   ],
   "source": [
    "Counter(df20['Error'])"
   ]
  },
  {
   "cell_type": "code",
   "execution_count": 14,
   "id": "ff2d4ea6",
   "metadata": {},
   "outputs": [],
   "source": [
    "df20.to_parquet('mqm-v20.parquet')"
   ]
  },
  {
   "cell_type": "code",
   "execution_count": 15,
   "id": "c1688f27",
   "metadata": {},
   "outputs": [],
   "source": [
    "df20 = pd.read_parquet('mqm-v20.parquet')"
   ]
  },
  {
   "cell_type": "code",
   "execution_count": 16,
   "id": "5b4f52e8",
   "metadata": {},
   "outputs": [
    {
     "data": {
      "text/html": [
       "<div>\n",
       "<style scoped>\n",
       "    .dataframe tbody tr th:only-of-type {\n",
       "        vertical-align: middle;\n",
       "    }\n",
       "\n",
       "    .dataframe tbody tr th {\n",
       "        vertical-align: top;\n",
       "    }\n",
       "\n",
       "    .dataframe thead th {\n",
       "        text-align: right;\n",
       "    }\n",
       "</style>\n",
       "<table border=\"1\" class=\"dataframe\">\n",
       "  <thead>\n",
       "    <tr style=\"text-align: right;\">\n",
       "      <th></th>\n",
       "      <th>Annotator</th>\n",
       "      <th>German Source</th>\n",
       "      <th>English Translation</th>\n",
       "      <th>Error</th>\n",
       "      <th>Degree</th>\n",
       "      <th>has_error</th>\n",
       "      <th>Source xxhash</th>\n",
       "      <th>Target xxhash</th>\n",
       "      <th>Source\\nTarget xxhash</th>\n",
       "    </tr>\n",
       "  </thead>\n",
       "  <tbody>\n",
       "    <tr>\n",
       "      <th>0</th>\n",
       "      <td>3</td>\n",
       "      <td>Dove Duschgel von Schönheit Seide wertvolle 70...</td>\n",
       "      <td>Dove shower gel from beauty silk valuable 700 ...</td>\n",
       "      <td>Bad Source - No meaning</td>\n",
       "      <td>Major</td>\n",
       "      <td>True</td>\n",
       "      <td>3696885317974569719</td>\n",
       "      <td>15650179344116872231</td>\n",
       "      <td>14199460433498029932</td>\n",
       "    </tr>\n",
       "    <tr>\n",
       "      <th>1</th>\n",
       "      <td>3</td>\n",
       "      <td>Dr Neons sind super bright Color Coated Saiten...</td>\n",
       "      <td>Dr Neons are super bright color coated strings...</td>\n",
       "      <td>Adequacy</td>\n",
       "      <td>Minor</td>\n",
       "      <td>True</td>\n",
       "      <td>10344410422070655780</td>\n",
       "      <td>2498529617461949639</td>\n",
       "      <td>7168514186384691906</td>\n",
       "    </tr>\n",
       "    <tr>\n",
       "      <th>2</th>\n",
       "      <td>3</td>\n",
       "      <td>EK Water Blocks 38300469984538.5W/m · K Hörer ...</td>\n",
       "      <td>EK Water Blocks 38300469984538.5W/m · K earpho...</td>\n",
       "      <td>Bad Source - No meaning</td>\n",
       "      <td>Major</td>\n",
       "      <td>True</td>\n",
       "      <td>2783690366837936422</td>\n",
       "      <td>2771310005695235641</td>\n",
       "      <td>3068944554127270805</td>\n",
       "    </tr>\n",
       "    <tr>\n",
       "      <th>3</th>\n",
       "      <td>3</td>\n",
       "      <td>Edelstahl Harz</td>\n",
       "      <td>stainless steel resin</td>\n",
       "      <td>None</td>\n",
       "      <td>None</td>\n",
       "      <td>False</td>\n",
       "      <td>16711829727213546928</td>\n",
       "      <td>12853883588113187030</td>\n",
       "      <td>16689769054036714384</td>\n",
       "    </tr>\n",
       "    <tr>\n",
       "      <th>4</th>\n",
       "      <td>3</td>\n",
       "      <td>Eine lustige Glocke mit Aufgabenkarten, die Ih...</td>\n",
       "      <td>A funny bell with task cards that brings your ...</td>\n",
       "      <td>Bad Source - No meaning</td>\n",
       "      <td>Major</td>\n",
       "      <td>True</td>\n",
       "      <td>12113623277648660465</td>\n",
       "      <td>6563401889861335005</td>\n",
       "      <td>12291077103302061713</td>\n",
       "    </tr>\n",
       "    <tr>\n",
       "      <th>...</th>\n",
       "      <td>...</td>\n",
       "      <td>...</td>\n",
       "      <td>...</td>\n",
       "      <td>...</td>\n",
       "      <td>...</td>\n",
       "      <td>...</td>\n",
       "      <td>...</td>\n",
       "      <td>...</td>\n",
       "      <td>...</td>\n",
       "    </tr>\n",
       "    <tr>\n",
       "      <th>7924</th>\n",
       "      <td>2</td>\n",
       "      <td>Dein Lieblingsfigur aus dem Videospiel Maincra...</td>\n",
       "      <td>Your favorite character from the Maincraft vid...</td>\n",
       "      <td>None</td>\n",
       "      <td>None</td>\n",
       "      <td>False</td>\n",
       "      <td>16521102793897854509</td>\n",
       "      <td>14933572471653706979</td>\n",
       "      <td>10560896453293272534</td>\n",
       "    </tr>\n",
       "    <tr>\n",
       "      <th>7925</th>\n",
       "      <td>2</td>\n",
       "      <td>Der Boden ist nicht glasiert und hat einen gew...</td>\n",
       "      <td>The floor is not glazed and has a certain anti...</td>\n",
       "      <td>Bad Source - Bad Encoding</td>\n",
       "      <td>Minor</td>\n",
       "      <td>True</td>\n",
       "      <td>9757103257916715282</td>\n",
       "      <td>11362972136126883557</td>\n",
       "      <td>8853681567271631259</td>\n",
       "    </tr>\n",
       "    <tr>\n",
       "      <th>7926</th>\n",
       "      <td>2</td>\n",
       "      <td>Der Funky Zoo von Marino Degano hat jetzt sein...</td>\n",
       "      <td>Marino Degano's Funky Zoo now has its own Jura...</td>\n",
       "      <td>None</td>\n",
       "      <td>None</td>\n",
       "      <td>False</td>\n",
       "      <td>7592128598500749974</td>\n",
       "      <td>10488522431404227725</td>\n",
       "      <td>9124445207112090276</td>\n",
       "    </tr>\n",
       "    <tr>\n",
       "      <th>7927</th>\n",
       "      <td>2</td>\n",
       "      <td>Der Swordfish Scribbler Batteriespitzer ist fü...</td>\n",
       "      <td>The Swordfish Scribbler battery sharpener is s...</td>\n",
       "      <td>Bad Source - No meaning</td>\n",
       "      <td>Major</td>\n",
       "      <td>True</td>\n",
       "      <td>8662106083923634055</td>\n",
       "      <td>9183167253751000107</td>\n",
       "      <td>16899085224263822792</td>\n",
       "    </tr>\n",
       "    <tr>\n",
       "      <th>7928</th>\n",
       "      <td>2</td>\n",
       "      <td>Der elegante Nostalgie Look für den modernen g...</td>\n",
       "      <td>The elegant nostalgic look for modern straight...</td>\n",
       "      <td>Bad Source - No meaning</td>\n",
       "      <td>Major</td>\n",
       "      <td>True</td>\n",
       "      <td>9423355101313271523</td>\n",
       "      <td>5533975761263183865</td>\n",
       "      <td>13839352457309117779</td>\n",
       "    </tr>\n",
       "  </tbody>\n",
       "</table>\n",
       "<p>7901 rows × 9 columns</p>\n",
       "</div>"
      ],
      "text/plain": [
       "      Annotator                                      German Source  \\\n",
       "0             3  Dove Duschgel von Schönheit Seide wertvolle 70...   \n",
       "1             3  Dr Neons sind super bright Color Coated Saiten...   \n",
       "2             3  EK Water Blocks 38300469984538.5W/m · K Hörer ...   \n",
       "3             3                                     Edelstahl Harz   \n",
       "4             3  Eine lustige Glocke mit Aufgabenkarten, die Ih...   \n",
       "...         ...                                                ...   \n",
       "7924          2  Dein Lieblingsfigur aus dem Videospiel Maincra...   \n",
       "7925          2  Der Boden ist nicht glasiert und hat einen gew...   \n",
       "7926          2  Der Funky Zoo von Marino Degano hat jetzt sein...   \n",
       "7927          2  Der Swordfish Scribbler Batteriespitzer ist fü...   \n",
       "7928          2  Der elegante Nostalgie Look für den modernen g...   \n",
       "\n",
       "                                    English Translation  \\\n",
       "0     Dove shower gel from beauty silk valuable 700 ...   \n",
       "1     Dr Neons are super bright color coated strings...   \n",
       "2     EK Water Blocks 38300469984538.5W/m · K earpho...   \n",
       "3                                 stainless steel resin   \n",
       "4     A funny bell with task cards that brings your ...   \n",
       "...                                                 ...   \n",
       "7924  Your favorite character from the Maincraft vid...   \n",
       "7925  The floor is not glazed and has a certain anti...   \n",
       "7926  Marino Degano's Funky Zoo now has its own Jura...   \n",
       "7927  The Swordfish Scribbler battery sharpener is s...   \n",
       "7928  The elegant nostalgic look for modern straight...   \n",
       "\n",
       "                          Error Degree  has_error         Source xxhash  \\\n",
       "0       Bad Source - No meaning  Major       True   3696885317974569719   \n",
       "1                      Adequacy  Minor       True  10344410422070655780   \n",
       "2       Bad Source - No meaning  Major       True   2783690366837936422   \n",
       "3                          None   None      False  16711829727213546928   \n",
       "4       Bad Source - No meaning  Major       True  12113623277648660465   \n",
       "...                         ...    ...        ...                   ...   \n",
       "7924                       None   None      False  16521102793897854509   \n",
       "7925  Bad Source - Bad Encoding  Minor       True   9757103257916715282   \n",
       "7926                       None   None      False   7592128598500749974   \n",
       "7927    Bad Source - No meaning  Major       True   8662106083923634055   \n",
       "7928    Bad Source - No meaning  Major       True   9423355101313271523   \n",
       "\n",
       "             Target xxhash  Source\\nTarget xxhash  \n",
       "0     15650179344116872231   14199460433498029932  \n",
       "1      2498529617461949639    7168514186384691906  \n",
       "2      2771310005695235641    3068944554127270805  \n",
       "3     12853883588113187030   16689769054036714384  \n",
       "4      6563401889861335005   12291077103302061713  \n",
       "...                    ...                    ...  \n",
       "7924  14933572471653706979   10560896453293272534  \n",
       "7925  11362972136126883557    8853681567271631259  \n",
       "7926  10488522431404227725    9124445207112090276  \n",
       "7927   9183167253751000107   16899085224263822792  \n",
       "7928   5533975761263183865   13839352457309117779  \n",
       "\n",
       "[7901 rows x 9 columns]"
      ]
     },
     "execution_count": 16,
     "metadata": {},
     "output_type": "execute_result"
    }
   ],
   "source": [
    "df20"
   ]
  },
  {
   "cell_type": "code",
   "execution_count": null,
   "id": "f93d03d2",
   "metadata": {},
   "outputs": [],
   "source": []
  },
  {
   "cell_type": "code",
   "execution_count": null,
   "id": "f0b0d586",
   "metadata": {},
   "outputs": [],
   "source": []
  }
 ],
 "metadata": {
  "kernelspec": {
   "display_name": "Python 3",
   "language": "python",
   "name": "python3"
  },
  "language_info": {
   "codemirror_mode": {
    "name": "ipython",
    "version": 3
   },
   "file_extension": ".py",
   "mimetype": "text/x-python",
   "name": "python",
   "nbconvert_exporter": "python",
   "pygments_lexer": "ipython3",
   "version": "3.8.2"
  }
 },
 "nbformat": 4,
 "nbformat_minor": 5
}
