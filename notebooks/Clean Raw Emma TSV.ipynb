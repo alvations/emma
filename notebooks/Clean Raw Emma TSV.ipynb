{
 "cells": [
  {
   "cell_type": "code",
   "execution_count": 1,
   "id": "ac36ab44",
   "metadata": {},
   "outputs": [],
   "source": [
    "import pandas as pd\n",
    "from collections import Counter\n",
    "import numpy as np"
   ]
  },
  {
   "cell_type": "code",
   "execution_count": 2,
   "id": "62a359ed",
   "metadata": {},
   "outputs": [],
   "source": [
    "df = pd.read_csv(\"emma.tsv\", sep='\\t')"
   ]
  },
  {
   "cell_type": "code",
   "execution_count": 3,
   "id": "98ea0eba",
   "metadata": {},
   "outputs": [],
   "source": [
    "de_en = Counter()\n",
    "\n",
    "for idx, row in df.iterrows():\n",
    "    de_en[(row['German Source'], row['English Translation'])] += 1"
   ]
  },
  {
   "cell_type": "code",
   "execution_count": 4,
   "id": "4afb449c",
   "metadata": {},
   "outputs": [],
   "source": [
    "duplicated = set(k for k,v in  de_en.items() if v > 1)"
   ]
  },
  {
   "cell_type": "code",
   "execution_count": 5,
   "id": "a767122c",
   "metadata": {},
   "outputs": [],
   "source": [
    "df_iaa = []\n",
    "df_unique = []\n",
    "\n",
    "for idx, row in df.iterrows():\n",
    "    if (row['German Source'], row['English Translation']) in duplicated:\n",
    "        df_iaa.append(row)\n",
    "    else:\n",
    "        df_unique.append(row)"
   ]
  },
  {
   "cell_type": "code",
   "execution_count": 6,
   "id": "130bf57c",
   "metadata": {},
   "outputs": [],
   "source": [
    "_df = pd.DataFrame(df_unique)\n",
    "_df = _df.fillna('None')\n",
    "\n",
    "has_error = []\n",
    "\n",
    "for idx, row in _df.iterrows():\n",
    "    if row['Error'] == 'None':\n",
    "        has_error.append(False)\n",
    "    else:\n",
    "        has_error.append(True)\n",
    "\n",
    "_df['has_error'] = has_error\n",
    "\n",
    "clean_rows = []\n",
    "\n",
    "for idx, row in _df.iterrows():\n",
    "    # Remove erroneous lines.\n",
    "    if row['Error'] != 'None' and row['Degree'] == 'None':\n",
    "        continue\n",
    "    else:\n",
    "        clean_rows.append(row)\n",
    "            \n",
    "df_clean = pd.DataFrame(clean_rows)\n",
    "df_clean.to_parquet('mqm-v1.parquet')"
   ]
  },
  {
   "cell_type": "code",
   "execution_count": 7,
   "id": "b234975f",
   "metadata": {},
   "outputs": [],
   "source": [
    "clean_rows = []\n",
    "\n",
    "for idx, row in _df.iterrows():\n",
    "    # Remove erroneous lines.\n",
    "    if row['Error'] != 'None' and row['Degree'] == 'None':\n",
    "        continue\n",
    "    else:\n",
    "        clean_rows.append(row)\n",
    "            \n",
    "df_clean = pd.DataFrame(clean_rows)"
   ]
  },
  {
   "cell_type": "code",
   "execution_count": 8,
   "id": "67dc8a21",
   "metadata": {},
   "outputs": [
    {
     "data": {
      "text/html": [
       "<div>\n",
       "<style scoped>\n",
       "    .dataframe tbody tr th:only-of-type {\n",
       "        vertical-align: middle;\n",
       "    }\n",
       "\n",
       "    .dataframe tbody tr th {\n",
       "        vertical-align: top;\n",
       "    }\n",
       "\n",
       "    .dataframe thead th {\n",
       "        text-align: right;\n",
       "    }\n",
       "</style>\n",
       "<table border=\"1\" class=\"dataframe\">\n",
       "  <thead>\n",
       "    <tr style=\"text-align: right;\">\n",
       "      <th></th>\n",
       "      <th>Annotator</th>\n",
       "      <th>German Source</th>\n",
       "      <th>English Translation</th>\n",
       "      <th>Error</th>\n",
       "      <th>Degree</th>\n",
       "      <th>has_error</th>\n",
       "    </tr>\n",
       "  </thead>\n",
       "  <tbody>\n",
       "    <tr>\n",
       "      <th>2456</th>\n",
       "      <td>3</td>\n",
       "      <td>Dove Duschgel von Schönheit Seide wertvolle 70...</td>\n",
       "      <td>Dove shower gel from beauty silk valuable 700 ...</td>\n",
       "      <td>Bad Source</td>\n",
       "      <td>Major</td>\n",
       "      <td>True</td>\n",
       "    </tr>\n",
       "    <tr>\n",
       "      <th>2457</th>\n",
       "      <td>3</td>\n",
       "      <td>Dr Neons sind super bright Color Coated Saiten...</td>\n",
       "      <td>Dr Neons are super bright color coated strings...</td>\n",
       "      <td>Adequacy</td>\n",
       "      <td>Minor</td>\n",
       "      <td>True</td>\n",
       "    </tr>\n",
       "    <tr>\n",
       "      <th>2458</th>\n",
       "      <td>3</td>\n",
       "      <td>EK Water Blocks 38300469984538.5W/m · K Hörer ...</td>\n",
       "      <td>EK Water Blocks 38300469984538.5W/m · K earpho...</td>\n",
       "      <td>Bad Source</td>\n",
       "      <td>Major</td>\n",
       "      <td>True</td>\n",
       "    </tr>\n",
       "    <tr>\n",
       "      <th>2459</th>\n",
       "      <td>3</td>\n",
       "      <td>Edelstahl Harz</td>\n",
       "      <td>stainless steel resin</td>\n",
       "      <td>None</td>\n",
       "      <td>None</td>\n",
       "      <td>False</td>\n",
       "    </tr>\n",
       "    <tr>\n",
       "      <th>2460</th>\n",
       "      <td>3</td>\n",
       "      <td>Eine lustige Glocke mit Aufgabenkarten, die Ih...</td>\n",
       "      <td>A funny bell with task cards that brings your ...</td>\n",
       "      <td>Bad Source</td>\n",
       "      <td>Major</td>\n",
       "      <td>True</td>\n",
       "    </tr>\n",
       "    <tr>\n",
       "      <th>...</th>\n",
       "      <td>...</td>\n",
       "      <td>...</td>\n",
       "      <td>...</td>\n",
       "      <td>...</td>\n",
       "      <td>...</td>\n",
       "      <td>...</td>\n",
       "    </tr>\n",
       "    <tr>\n",
       "      <th>10788</th>\n",
       "      <td>2</td>\n",
       "      <td>Dein Lieblingsfigur aus dem Videospiel Maincra...</td>\n",
       "      <td>Your favorite character from the Maincraft vid...</td>\n",
       "      <td>None</td>\n",
       "      <td>None</td>\n",
       "      <td>False</td>\n",
       "    </tr>\n",
       "    <tr>\n",
       "      <th>10789</th>\n",
       "      <td>2</td>\n",
       "      <td>Der Boden ist nicht glasiert und hat einen gew...</td>\n",
       "      <td>The floor is not glazed and has a certain anti...</td>\n",
       "      <td>Bad Source</td>\n",
       "      <td>Minor</td>\n",
       "      <td>True</td>\n",
       "    </tr>\n",
       "    <tr>\n",
       "      <th>10790</th>\n",
       "      <td>2</td>\n",
       "      <td>Der Funky Zoo von Marino Degano hat jetzt sein...</td>\n",
       "      <td>Marino Degano's Funky Zoo now has its own Jura...</td>\n",
       "      <td>None</td>\n",
       "      <td>None</td>\n",
       "      <td>False</td>\n",
       "    </tr>\n",
       "    <tr>\n",
       "      <th>10791</th>\n",
       "      <td>2</td>\n",
       "      <td>Der Swordfish Scribbler Batteriespitzer ist fü...</td>\n",
       "      <td>The Swordfish Scribbler battery sharpener is s...</td>\n",
       "      <td>Bad Source</td>\n",
       "      <td>Major</td>\n",
       "      <td>True</td>\n",
       "    </tr>\n",
       "    <tr>\n",
       "      <th>10792</th>\n",
       "      <td>2</td>\n",
       "      <td>Der elegante Nostalgie Look für den modernen g...</td>\n",
       "      <td>The elegant nostalgic look for modern straight...</td>\n",
       "      <td>Bad Source</td>\n",
       "      <td>Major</td>\n",
       "      <td>True</td>\n",
       "    </tr>\n",
       "  </tbody>\n",
       "</table>\n",
       "<p>7929 rows × 6 columns</p>\n",
       "</div>"
      ],
      "text/plain": [
       "       Annotator                                      German Source  \\\n",
       "2456           3  Dove Duschgel von Schönheit Seide wertvolle 70...   \n",
       "2457           3  Dr Neons sind super bright Color Coated Saiten...   \n",
       "2458           3  EK Water Blocks 38300469984538.5W/m · K Hörer ...   \n",
       "2459           3                                     Edelstahl Harz   \n",
       "2460           3  Eine lustige Glocke mit Aufgabenkarten, die Ih...   \n",
       "...          ...                                                ...   \n",
       "10788          2  Dein Lieblingsfigur aus dem Videospiel Maincra...   \n",
       "10789          2  Der Boden ist nicht glasiert und hat einen gew...   \n",
       "10790          2  Der Funky Zoo von Marino Degano hat jetzt sein...   \n",
       "10791          2  Der Swordfish Scribbler Batteriespitzer ist fü...   \n",
       "10792          2  Der elegante Nostalgie Look für den modernen g...   \n",
       "\n",
       "                                     English Translation       Error Degree  \\\n",
       "2456   Dove shower gel from beauty silk valuable 700 ...  Bad Source  Major   \n",
       "2457   Dr Neons are super bright color coated strings...    Adequacy  Minor   \n",
       "2458   EK Water Blocks 38300469984538.5W/m · K earpho...  Bad Source  Major   \n",
       "2459                               stainless steel resin        None   None   \n",
       "2460   A funny bell with task cards that brings your ...  Bad Source  Major   \n",
       "...                                                  ...         ...    ...   \n",
       "10788  Your favorite character from the Maincraft vid...        None   None   \n",
       "10789  The floor is not glazed and has a certain anti...  Bad Source  Minor   \n",
       "10790  Marino Degano's Funky Zoo now has its own Jura...        None   None   \n",
       "10791  The Swordfish Scribbler battery sharpener is s...  Bad Source  Major   \n",
       "10792  The elegant nostalgic look for modern straight...  Bad Source  Major   \n",
       "\n",
       "       has_error  \n",
       "2456        True  \n",
       "2457        True  \n",
       "2458        True  \n",
       "2459       False  \n",
       "2460        True  \n",
       "...          ...  \n",
       "10788      False  \n",
       "10789       True  \n",
       "10790      False  \n",
       "10791       True  \n",
       "10792       True  \n",
       "\n",
       "[7929 rows x 6 columns]"
      ]
     },
     "execution_count": 8,
     "metadata": {},
     "output_type": "execute_result"
    }
   ],
   "source": [
    "df_clean"
   ]
  },
  {
   "cell_type": "code",
   "execution_count": 9,
   "id": "d7ca0ed3",
   "metadata": {},
   "outputs": [
    {
     "data": {
      "text/plain": [
       "167443"
      ]
     },
     "execution_count": 9,
     "metadata": {},
     "output_type": "execute_result"
    }
   ],
   "source": [
    "sum(len(i.split()) for i in df_clean['German Source'])"
   ]
  },
  {
   "cell_type": "code",
   "execution_count": 10,
   "id": "1ed81a16",
   "metadata": {},
   "outputs": [
    {
     "data": {
      "text/plain": [
       "0.48051456678017407"
      ]
     },
     "execution_count": 10,
     "metadata": {},
     "output_type": "execute_result"
    }
   ],
   "source": [
    "sum(df_clean['has_error']) / len(df_clean)"
   ]
  },
  {
   "cell_type": "code",
   "execution_count": 11,
   "id": "feb37d19",
   "metadata": {},
   "outputs": [
    {
     "data": {
      "text/plain": [
       "Counter({'Bad Source': 2177,\n",
       "         'Adequacy': 1345,\n",
       "         'None': 4119,\n",
       "         'Fluency': 176,\n",
       "         'Bad source': 12,\n",
       "         'Number': 11,\n",
       "         'Numbers': 7,\n",
       "         'Adequacy ': 50,\n",
       "         'Bad Source ': 21,\n",
       "         'Fluency ': 5,\n",
       "         'Fleuncy': 2,\n",
       "         'Other': 4})"
      ]
     },
     "execution_count": 11,
     "metadata": {},
     "output_type": "execute_result"
    }
   ],
   "source": [
    "Counter(df_clean['Error'])"
   ]
  },
  {
   "cell_type": "code",
   "execution_count": 12,
   "id": "71d22436",
   "metadata": {},
   "outputs": [
    {
     "data": {
      "text/plain": [
       "Counter({'Major': 1933,\n",
       "         'Minor': 1581,\n",
       "         'None': 4119,\n",
       "         'Critical': 287,\n",
       "         ' Minor': 1,\n",
       "         'Cricital': 3,\n",
       "         'Circal': 1,\n",
       "         'Critical ': 1,\n",
       "         'MInor': 3})"
      ]
     },
     "execution_count": 12,
     "metadata": {},
     "output_type": "execute_result"
    }
   ],
   "source": [
    "Counter(df_clean['Degree'])"
   ]
  },
  {
   "cell_type": "code",
   "execution_count": 13,
   "id": "189817e6",
   "metadata": {},
   "outputs": [],
   "source": [
    "label_correction = {'Bad source': 'Bad Source', \n",
    " 'Bad Source ':'Bad Source',\n",
    " 'Adequacy ': 'Adequacy',\n",
    " 'Fluency ': 'Fluency',\n",
    " 'Fleuncy':  'Fluency',\n",
    " 'Numbers': 'Number'\n",
    "}\n",
    "\n",
    "sev_correction = {' Minor': 'Minor',\n",
    "                  'Cricital': 'Critical',\n",
    "                  'Cricital': 'Critical',\n",
    "                  'Circal': 'Critical',\n",
    "                  'Critical ':'Critical',\n",
    "                  'MInor': 'Minor',\n",
    "}\n",
    "\n",
    "\n",
    "\n",
    "df_clean = df_clean.replace({\"Error\": label_correction, 'Degree': sev_correction})"
   ]
  },
  {
   "cell_type": "code",
   "execution_count": 14,
   "id": "0cc6fa6d",
   "metadata": {},
   "outputs": [
    {
     "data": {
      "text/plain": [
       "Counter({'Bad Source': 2210,\n",
       "         'Adequacy': 1395,\n",
       "         'None': 4119,\n",
       "         'Fluency': 183,\n",
       "         'Number': 18,\n",
       "         'Other': 4})"
      ]
     },
     "execution_count": 14,
     "metadata": {},
     "output_type": "execute_result"
    }
   ],
   "source": [
    "Counter(df_clean['Error'])"
   ]
  },
  {
   "cell_type": "code",
   "execution_count": 15,
   "id": "6eaab846",
   "metadata": {},
   "outputs": [
    {
     "data": {
      "text/plain": [
       "Counter({'Major': 1933, 'Minor': 1585, 'None': 4119, 'Critical': 292})"
      ]
     },
     "execution_count": 15,
     "metadata": {},
     "output_type": "execute_result"
    }
   ],
   "source": [
    "Counter(df_clean['Degree'])"
   ]
  },
  {
   "cell_type": "code",
   "execution_count": 16,
   "id": "20a5acd5",
   "metadata": {},
   "outputs": [],
   "source": [
    "df_clean[df_clean['Error'] == 'Bad Source'].to_csv('emma-bad-source.tsv', sep='\\t', index=False)"
   ]
  },
  {
   "cell_type": "code",
   "execution_count": 17,
   "id": "2a825d16",
   "metadata": {},
   "outputs": [
    {
     "data": {
      "text/plain": [
       "Counter({'Bad Source': 2210,\n",
       "         'Adequacy': 1395,\n",
       "         'None': 4119,\n",
       "         'Fluency': 183,\n",
       "         'Number': 18,\n",
       "         'Other': 4})"
      ]
     },
     "execution_count": 17,
     "metadata": {},
     "output_type": "execute_result"
    }
   ],
   "source": [
    "Counter(df_clean['Error'])"
   ]
  },
  {
   "cell_type": "code",
   "execution_count": 18,
   "id": "58f964e5",
   "metadata": {},
   "outputs": [
    {
     "data": {
      "text/plain": [
       "Counter({'Major': 1933, 'Minor': 1585, 'None': 4119, 'Critical': 292})"
      ]
     },
     "execution_count": 18,
     "metadata": {},
     "output_type": "execute_result"
    }
   ],
   "source": [
    "Counter(df_clean['Degree'])"
   ]
  },
  {
   "cell_type": "code",
   "execution_count": 19,
   "id": "93180e3b",
   "metadata": {},
   "outputs": [],
   "source": [
    "df_clean.to_parquet('mqm-v1.parquet')"
   ]
  },
  {
   "cell_type": "code",
   "execution_count": 20,
   "id": "901bb431",
   "metadata": {},
   "outputs": [
    {
     "data": {
      "text/html": [
       "<div>\n",
       "<style scoped>\n",
       "    .dataframe tbody tr th:only-of-type {\n",
       "        vertical-align: middle;\n",
       "    }\n",
       "\n",
       "    .dataframe tbody tr th {\n",
       "        vertical-align: top;\n",
       "    }\n",
       "\n",
       "    .dataframe thead th {\n",
       "        text-align: right;\n",
       "    }\n",
       "</style>\n",
       "<table border=\"1\" class=\"dataframe\">\n",
       "  <thead>\n",
       "    <tr style=\"text-align: right;\">\n",
       "      <th></th>\n",
       "      <th>Annotator</th>\n",
       "      <th>German Source</th>\n",
       "      <th>English Translation</th>\n",
       "      <th>Error</th>\n",
       "      <th>Degree</th>\n",
       "      <th>has_error</th>\n",
       "    </tr>\n",
       "  </thead>\n",
       "  <tbody>\n",
       "    <tr>\n",
       "      <th>2456</th>\n",
       "      <td>3</td>\n",
       "      <td>Dove Duschgel von Schönheit Seide wertvolle 70...</td>\n",
       "      <td>Dove shower gel from beauty silk valuable 700 ...</td>\n",
       "      <td>Bad Source</td>\n",
       "      <td>Major</td>\n",
       "      <td>True</td>\n",
       "    </tr>\n",
       "    <tr>\n",
       "      <th>2457</th>\n",
       "      <td>3</td>\n",
       "      <td>Dr Neons sind super bright Color Coated Saiten...</td>\n",
       "      <td>Dr Neons are super bright color coated strings...</td>\n",
       "      <td>Adequacy</td>\n",
       "      <td>Minor</td>\n",
       "      <td>True</td>\n",
       "    </tr>\n",
       "    <tr>\n",
       "      <th>2458</th>\n",
       "      <td>3</td>\n",
       "      <td>EK Water Blocks 38300469984538.5W/m · K Hörer ...</td>\n",
       "      <td>EK Water Blocks 38300469984538.5W/m · K earpho...</td>\n",
       "      <td>Bad Source</td>\n",
       "      <td>Major</td>\n",
       "      <td>True</td>\n",
       "    </tr>\n",
       "    <tr>\n",
       "      <th>2459</th>\n",
       "      <td>3</td>\n",
       "      <td>Edelstahl Harz</td>\n",
       "      <td>stainless steel resin</td>\n",
       "      <td>None</td>\n",
       "      <td>None</td>\n",
       "      <td>False</td>\n",
       "    </tr>\n",
       "    <tr>\n",
       "      <th>2460</th>\n",
       "      <td>3</td>\n",
       "      <td>Eine lustige Glocke mit Aufgabenkarten, die Ih...</td>\n",
       "      <td>A funny bell with task cards that brings your ...</td>\n",
       "      <td>Bad Source</td>\n",
       "      <td>Major</td>\n",
       "      <td>True</td>\n",
       "    </tr>\n",
       "    <tr>\n",
       "      <th>...</th>\n",
       "      <td>...</td>\n",
       "      <td>...</td>\n",
       "      <td>...</td>\n",
       "      <td>...</td>\n",
       "      <td>...</td>\n",
       "      <td>...</td>\n",
       "    </tr>\n",
       "    <tr>\n",
       "      <th>10788</th>\n",
       "      <td>2</td>\n",
       "      <td>Dein Lieblingsfigur aus dem Videospiel Maincra...</td>\n",
       "      <td>Your favorite character from the Maincraft vid...</td>\n",
       "      <td>None</td>\n",
       "      <td>None</td>\n",
       "      <td>False</td>\n",
       "    </tr>\n",
       "    <tr>\n",
       "      <th>10789</th>\n",
       "      <td>2</td>\n",
       "      <td>Der Boden ist nicht glasiert und hat einen gew...</td>\n",
       "      <td>The floor is not glazed and has a certain anti...</td>\n",
       "      <td>Bad Source</td>\n",
       "      <td>Minor</td>\n",
       "      <td>True</td>\n",
       "    </tr>\n",
       "    <tr>\n",
       "      <th>10790</th>\n",
       "      <td>2</td>\n",
       "      <td>Der Funky Zoo von Marino Degano hat jetzt sein...</td>\n",
       "      <td>Marino Degano's Funky Zoo now has its own Jura...</td>\n",
       "      <td>None</td>\n",
       "      <td>None</td>\n",
       "      <td>False</td>\n",
       "    </tr>\n",
       "    <tr>\n",
       "      <th>10791</th>\n",
       "      <td>2</td>\n",
       "      <td>Der Swordfish Scribbler Batteriespitzer ist fü...</td>\n",
       "      <td>The Swordfish Scribbler battery sharpener is s...</td>\n",
       "      <td>Bad Source</td>\n",
       "      <td>Major</td>\n",
       "      <td>True</td>\n",
       "    </tr>\n",
       "    <tr>\n",
       "      <th>10792</th>\n",
       "      <td>2</td>\n",
       "      <td>Der elegante Nostalgie Look für den modernen g...</td>\n",
       "      <td>The elegant nostalgic look for modern straight...</td>\n",
       "      <td>Bad Source</td>\n",
       "      <td>Major</td>\n",
       "      <td>True</td>\n",
       "    </tr>\n",
       "  </tbody>\n",
       "</table>\n",
       "<p>7929 rows × 6 columns</p>\n",
       "</div>"
      ],
      "text/plain": [
       "       Annotator                                      German Source  \\\n",
       "2456           3  Dove Duschgel von Schönheit Seide wertvolle 70...   \n",
       "2457           3  Dr Neons sind super bright Color Coated Saiten...   \n",
       "2458           3  EK Water Blocks 38300469984538.5W/m · K Hörer ...   \n",
       "2459           3                                     Edelstahl Harz   \n",
       "2460           3  Eine lustige Glocke mit Aufgabenkarten, die Ih...   \n",
       "...          ...                                                ...   \n",
       "10788          2  Dein Lieblingsfigur aus dem Videospiel Maincra...   \n",
       "10789          2  Der Boden ist nicht glasiert und hat einen gew...   \n",
       "10790          2  Der Funky Zoo von Marino Degano hat jetzt sein...   \n",
       "10791          2  Der Swordfish Scribbler Batteriespitzer ist fü...   \n",
       "10792          2  Der elegante Nostalgie Look für den modernen g...   \n",
       "\n",
       "                                     English Translation       Error Degree  \\\n",
       "2456   Dove shower gel from beauty silk valuable 700 ...  Bad Source  Major   \n",
       "2457   Dr Neons are super bright color coated strings...    Adequacy  Minor   \n",
       "2458   EK Water Blocks 38300469984538.5W/m · K earpho...  Bad Source  Major   \n",
       "2459                               stainless steel resin        None   None   \n",
       "2460   A funny bell with task cards that brings your ...  Bad Source  Major   \n",
       "...                                                  ...         ...    ...   \n",
       "10788  Your favorite character from the Maincraft vid...        None   None   \n",
       "10789  The floor is not glazed and has a certain anti...  Bad Source  Minor   \n",
       "10790  Marino Degano's Funky Zoo now has its own Jura...        None   None   \n",
       "10791  The Swordfish Scribbler battery sharpener is s...  Bad Source  Major   \n",
       "10792  The elegant nostalgic look for modern straight...  Bad Source  Major   \n",
       "\n",
       "       has_error  \n",
       "2456        True  \n",
       "2457        True  \n",
       "2458        True  \n",
       "2459       False  \n",
       "2460        True  \n",
       "...          ...  \n",
       "10788      False  \n",
       "10789       True  \n",
       "10790      False  \n",
       "10791       True  \n",
       "10792       True  \n",
       "\n",
       "[7929 rows x 6 columns]"
      ]
     },
     "execution_count": 20,
     "metadata": {},
     "output_type": "execute_result"
    }
   ],
   "source": [
    "df_clean"
   ]
  },
  {
   "cell_type": "code",
   "execution_count": null,
   "id": "a1b3c944",
   "metadata": {},
   "outputs": [],
   "source": []
  }
 ],
 "metadata": {
  "kernelspec": {
   "display_name": "Python 3",
   "language": "python",
   "name": "python3"
  },
  "language_info": {
   "codemirror_mode": {
    "name": "ipython",
    "version": 3
   },
   "file_extension": ".py",
   "mimetype": "text/x-python",
   "name": "python",
   "nbconvert_exporter": "python",
   "pygments_lexer": "ipython3",
   "version": "3.8.2"
  }
 },
 "nbformat": 4,
 "nbformat_minor": 5
}
